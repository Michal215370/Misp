{
  "nbformat": 4,
  "nbformat_minor": 0,
  "metadata": {
    "kernelspec": {
      "display_name": "Python 3",
      "language": "python",
      "name": "python3"
    },
    "language_info": {
      "codemirror_mode": {
        "name": "ipython",
        "version": 3
      },
      "file_extension": ".py",
      "mimetype": "text/x-python",
      "name": "python",
      "nbconvert_exporter": "python",
      "pygments_lexer": "ipython3",
      "version": "3.8.3"
    },
    "colab": {
      "name": "4_Schedule.ipynb",
      "provenance": []
    }
  },
  "cells": [
    {
      "cell_type": "code",
      "metadata": {
        "id": "ip8d8AlijkoL"
      },
      "source": [
        "!pip install pulp\n",
        "!sudo apt-get install coinor-cbc glpk-utils coinor-clp"
      ],
      "execution_count": null,
      "outputs": []
    },
    {
      "cell_type": "code",
      "metadata": {
        "id": "fiqXhag-jkoN",
        "outputId": "938acd42-9a12-4319-9d10-5c9d683949e3"
      },
      "source": [
        "from pulp import *\n",
        "import pandas as pd\n",
        "\n",
        "pracownicy = {\n",
        "    'ANIA':{'dni':['pn','wt','sr','czw','pt'],'placa': 100},\n",
        "    'STEFAN':{'dni':['pn'],'placa': 50},\n",
        "    'HEKTOR':{'dni':['pn','wt','sr'],'placa': 60},\n",
        "    'OLAF':{'dni':['pn','wt','sr','czw','pt'],'placa': 40},\n",
        "    'LIDIA':{'dni':['czw','pt'],'placa': 110},\n",
        "    'PIOTR':{'dni':['pn','wt','sr'],'placa': 70},\n",
        "}\n",
        "\n",
        "liczbaPracownikow = {\n",
        "    'pn': 2,\n",
        "    'wt': 1,\n",
        "    'sr': 1,\n",
        "    'czw': 1,\n",
        "    'pt': 3\n",
        "}\n",
        "tydzien = ['pn','wt','sr','czw','pt']\n",
        "\n",
        "vars = LpVariable.dicts('x', (pracownicy.keys(), tydzien),\n",
        "                            lowBound = 0,\n",
        "                            upBound = 1,\n",
        "                            cat = 'Integer')\n",
        "\n",
        "\n",
        "\n",
        "prob = LpProblem(\"Praca_Model\", LpMinimize)\n",
        "\n",
        "prob += 4*lpSum(pracownicy[pracownik]['placa']*lpSum(vars[pracownik][dzien] for dzien in tydzien) for pracownik in pracownicy)\n",
        "\n",
        "\n",
        "for pracownik in pracownicy:\n",
        "  temp = 0\n",
        "  for dzien in tydzien:\n",
        "    if dzien not in pracownicy[pracownik][\"dni\"]:\n",
        "      temp += vars[pracownik][dzien]\n",
        "  prob += temp == 0\n",
        "\n",
        "for dzien in tydzien:\n",
        "  prob += lpSum(vars[pracownik][dzien] for pracownik in pracownicy) >= liczbaPracownikow[dzien]\n",
        "\n",
        "for pracownik in pracownicy:\n",
        "  prob += lpSum(vars[pracownik][dzien] for dzien in tydzien) <= 3\n",
        "  prob += lpSum(vars[pracownik][dzien] for dzien in tydzien) >= 1\n",
        "\n",
        "prob.writeLP(\"schedule.lp\")\n",
        "prob.solve()\n",
        "\n",
        "print(\"Status:\", LpStatus[prob.status])\n",
        "print()\n",
        "print(\"Minimalna wartośc wypłat:\", value(prob.objective), \"PLN\",)\n",
        "\n"
      ],
      "execution_count": null,
      "outputs": [
        {
          "output_type": "stream",
          "text": [
            "Status: Optimal\n",
            "\n",
            "Minimalna wartośc wypłat: 2040.0 PLN\n"
          ],
          "name": "stdout"
        }
      ]
    },
    {
      "cell_type": "code",
      "metadata": {
        "id": "jcFhqSyIjkoN"
      },
      "source": [
        ""
      ],
      "execution_count": null,
      "outputs": []
    },
    {
      "cell_type": "code",
      "metadata": {
        "id": "P_QXi3JQjkoO"
      },
      "source": [
        ""
      ],
      "execution_count": null,
      "outputs": []
    },
    {
      "cell_type": "code",
      "metadata": {
        "id": "OyfDRsIEjkoO"
      },
      "source": [
        ""
      ],
      "execution_count": null,
      "outputs": []
    }
  ]
}
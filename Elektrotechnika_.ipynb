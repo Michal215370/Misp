{
  "nbformat": 4,
  "nbformat_minor": 0,
  "metadata": {
    "colab": {
      "name": "6_elektrotechnika .ipynb",
      "provenance": []
    },
    "kernelspec": {
      "display_name": "Python 3",
      "language": "python",
      "name": "python3"
    },
    "language_info": {
      "codemirror_mode": {
        "name": "ipython",
        "version": 3
      },
      "file_extension": ".py",
      "mimetype": "text/x-python",
      "name": "python",
      "nbconvert_exporter": "python",
      "pygments_lexer": "ipython3",
      "version": "3.8.3"
    }
  },
  "cells": [
    {
      "cell_type": "code",
      "metadata": {
        "colab": {
          "base_uri": "https://localhost:8080/"
        },
        "id": "csYXkTLmfBwA",
        "outputId": "6c9ca7ae-36a9-4f4e-f44f-4bfe7728950c"
      },
      "source": [
        "from pulp import *\n",
        "\n",
        "U = [6,10,4,7,3]\n",
        "\n",
        "prob = LpProblem(\"MiinimalnaMoc\",LpMinimize)\n",
        "\n",
        "i1=LpVariable(\"i1\",0,None,LpContinuous)\n",
        "i2=LpVariable(\"i2\",0,None,LpContinuous)\n",
        "i3=LpVariable(\"i3\",0,None,LpContinuous)\n",
        "i4=LpVariable(\"i4\",0,None,LpContinuous)\n",
        "i5=LpVariable(\"i5\",0,None,LpContinuous)\n",
        "\n",
        "prob += 6*i1 + 10*i2 + 4*i3 + 7*i4 + 3*i5\n",
        "\n",
        "\n",
        "prob += i1+i2 == i4+i5\n",
        "prob += i1 == i3+i4\n",
        "prob += i2 == i5-i3\n",
        "\n",
        "\n",
        "prob += i1 >= 3\n",
        "prob += i1 <= 5\n",
        "prob += i2 >= 1\n",
        "prob += i2 <= 3\n",
        "prob += i3 >= 1\n",
        "prob += i3 <= 3\n",
        "prob += i4 >= 1\n",
        "prob += i4 <= 3\n",
        "prob += i5 >= 3\n",
        "prob += i5 <= 5\n",
        "\n",
        "prob.writeLP(\"MiinimalnaMoc.lp\")\n",
        "prob.solve()\n",
        "\n",
        "varsdict = {}\n",
        "\n",
        "j = 0\n",
        "for v in prob.variables():\n",
        "    varsdict[v.name,\"R\"+str(j+1)] = str(v.varValue), U[j]/v.varValue\n",
        "    j += 1\n",
        "\n",
        "\n",
        "print(\"Status:\", LpStatus[prob.status])\n",
        "print(\"minalna moc: {} W\".format(value(prob.objective)))\n",
        "print(\"[A] : [Ohm]: {}\".format(varsdict))"
      ],
      "execution_count": null,
      "outputs": [
        {
          "output_type": "stream",
          "text": [
            "Status: Optimal\n",
            "minalna moc: 52.0 W\n",
            "[A] : [Ohm]: {('i1', 'R1'): ('3.0', 2.0), ('i2', 'R2'): ('1.0', 10.0), ('i3', 'R3'): ('2.0', 2.0), ('i4', 'R4'): ('1.0', 7.0), ('i5', 'R5'): ('3.0', 1.0)}\n"
          ],
          "name": "stdout"
        }
      ]
    },
    {
      "cell_type": "code",
      "metadata": {
        "colab": {
          "base_uri": "https://localhost:8080/"
        },
        "id": "_zVSsgGbimdR",
        "outputId": "ded6d9a8-05fa-4872-9edf-8c1dd83d4310"
      },
      "source": [
        "from pulp import *\n",
        "\n",
        "#problem statement\n",
        "prob = LpProblem(\"maksDwojnika\",LpMaximize)\n",
        "\n",
        "I1 = LpVariable(\"I1\",0,None,LpContinuous)\n",
        "I2 = LpVariable(\"I2\",0,None,LpContinuous)\n",
        "I3 = LpVariable(\"I3\",0,None,LpContinuous)\n",
        "I4 = LpVariable(\"I4\",0,None,LpContinuous)\n",
        "I5 = LpVariable(\"I5\",0,None,LpContinuous)\n",
        "\n",
        "prob += I3, \"SumaPradow\" \n",
        "\n",
        "prob += I1 + I2 == I3, \"suma1\"\n",
        "prob += I5 + I4 == I3, \"suma2\"\n",
        "\n",
        "prob += I1*8 == I2*6, \"Ohm1\"\n",
        "prob += I5*8 == I4*10, \"Ohm2\"\n",
        "\n",
        "prob += I1 <= 2, \"Ogr_I1\"\n",
        "prob += I2 <= 3, \"Ogr_I2\"\n",
        "prob += I3 <= 4, \"Ogr_I3\"\n",
        "prob += I4 <= 2, \"Ogr_I4\"\n",
        "prob += I5 <= 2, \"Ogr_I5\"\n",
        "\n",
        "\n",
        "prob.solve()\n",
        "print (\"Status:\", LpStatus[prob.status])\n",
        "print()\n",
        "print(\"Maksymalny prad dwojnika\",prob.objective.value(),\"A\")\n",
        "print()\n",
        "print(\"Wartości prądów gdzie maksymalizowany jest prąd dwójnika\")\n",
        "for v in prob.variables():\n",
        "    print (v.name, \"=\", v.varValue)\n"
      ],
      "execution_count": null,
      "outputs": [
        {
          "output_type": "stream",
          "text": [
            "Status: Optimal\n",
            "\n",
            "Maksymalny prad dwojnika 3.6 A\n",
            "\n",
            "Wartości prądów gdzie maksymalizowany jest prąd dwójnika\n",
            "I1 = 1.5428571\n",
            "I2 = 2.0571429\n",
            "I3 = 3.6\n",
            "I4 = 1.6\n",
            "I5 = 2.0\n"
          ],
          "name": "stdout"
        }
      ]
    }
  ]
}
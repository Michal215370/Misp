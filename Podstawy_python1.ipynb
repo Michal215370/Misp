{
  "nbformat": 4,
  "nbformat_minor": 0,
  "metadata": {
    "kernelspec": {
      "display_name": "Python 3",
      "language": "python",
      "name": "python3"
    },
    "language_info": {
      "codemirror_mode": {
        "name": "ipython",
        "version": 3
      },
      "file_extension": ".py",
      "mimetype": "text/x-python",
      "name": "python",
      "nbconvert_exporter": "python",
      "pygments_lexer": "ipython3",
      "version": "3.8.3"
    },
    "colab": {
      "name": "1_podstawy_python_jupyter.ipynb",
      "provenance": []
    }
  },
  "cells": [
    {
      "cell_type": "markdown",
      "metadata": {
        "id": "EUJKjjdsknIi"
      },
      "source": [
        "## Zad.1\n",
        " a) Wyprintuj zajecia od srody do piatku <br />\n",
        " b) wyprintuj oprocz srody"
      ]
    },
    {
      "cell_type": "code",
      "metadata": {
        "id": "btJyX6BbknIn",
        "outputId": "23b2fb17-cde4-472d-ad18-05e3c8f90418"
      },
      "source": [
        "zajecia = [\"wf\",\"informatyka\",\"relax\",\"mispy\",\"piateczek\"]\n",
        "\n",
        "dnityg= [\"Pon\",\"Wto\",\"Sro\",\"Czwar\",\"Pio\"]\n",
        "\n",
        "# wyprintuj zajecia od srody do piatku\n",
        "print('wyprintuj zajecia od srody do piatku')\n",
        "print(zajecia[2:])\n",
        "\n",
        "print(\"--\"*20) \n",
        "# wyprintuj oprocz srody\n",
        "print('wyprintuj oprocz srody')\n",
        "for zajecie, dnityg in zip(zajecia,dnityg):\n",
        "  if dnityg != \"Sro\":\n",
        "    print(zajecie)\n",
        "\n",
        "print(\"--\"*20) "
      ],
      "execution_count": null,
      "outputs": [
        {
          "output_type": "stream",
          "text": [
            "wyprintuj zajecia od srody do piatku\n",
            "['relax', 'mispy', 'piateczek']\n",
            "----------------------------------------\n",
            "wyprintuj oprocz srody\n",
            "wf\n",
            "informatyka\n",
            "mispy\n",
            "piateczek\n",
            "----------------------------------------\n"
          ],
          "name": "stdout"
        }
      ]
    },
    {
      "cell_type": "markdown",
      "metadata": {
        "id": "FmytAcQ3knIp"
      },
      "source": [
        "## Zad.2\n",
        "a) zdefiniuj funkcje ktora poda ile jest zajec danego dnia <br />\n",
        "b) osortuj dni po najbardziej zajetych <br />\n"
      ]
    },
    {
      "cell_type": "code",
      "metadata": {
        "id": "RQm9c1pEknIp",
        "outputId": "4c8d6fc6-779a-4c2f-bd0d-b5ecb25d1c80"
      },
      "source": [
        "zajecia = [[\"wf\"],\n",
        "           [\"informatyka\", \"nauka czytania\"],\n",
        "           [\"relax\", \"jedzenie\"],\n",
        "           [\"mispy\",\"mispy w domu\"],\n",
        "           [\"piateczek\", \"praca domowa z mispow\", \"Ilovemispy\", \"mispy w czasie snu\"]\n",
        "          ]\n",
        "\n",
        "dnityg= [\"Pon\",\"Wto\",\"Sro\",\"Czwar\",\"Pio\"]\n",
        "\n",
        "# zdefiniuj funkcje ktora poda ile jest zajec danego dnia\n",
        "print('zdefiniuj funkcje ktora poda ile jest zajec danego dnia')\n",
        "def ileZajec():\n",
        "  return print(\"Pon\", len(zajecia[0]),\"Wto\", len(zajecia[1]),\"Sro\", len(zajecia[2]),\"Czwar\", len(zajecia[3]), \"Pio\", len(zajecia[4]))\n",
        "  \n",
        "liczbaZajec = [len(zajecia[0]), len(zajecia[1]), len(zajecia[2]), len(zajecia[3]), len(zajecia[4])]\n",
        "# lista_zajec_z_dnia -> ile ich jest\n",
        "ileZajec()\n",
        "\n",
        "print(\"--\"*20) \n",
        "\n",
        "# posortuj dni po najbardziej zajetych\n",
        "print('posortuj dni po najbardziej zajetych')\n",
        "\n",
        "lista_dzien_zajecia = list (zip(dnityg,zajecia))\n",
        "print(\"nieposortowane: \",lista_dzien_zajecia)\n",
        "print()\n",
        "print (\"posortowane: \",sorted(lista_dzien_zajecia,key = lambda x: len(x[1]),reverse=True))\n",
        "print()\n",
        "print(\"--\"*20) "
      ],
      "execution_count": null,
      "outputs": [
        {
          "output_type": "stream",
          "text": [
            "zdefiniuj funkcje ktora poda ile jest zajec danego dnia\n",
            "Pon 1 Wto 2 Sro 2 Czwar 2 Pio 4\n",
            "----------------------------------------\n",
            "posortuj dni po najbardziej zajetych\n",
            "nieposortowane:  [('Pon', ['wf']), ('Wto', ['informatyka', 'nauka czytania']), ('Sro', ['relax', 'jedzenie']), ('Czwar', ['mispy', 'mispy w domu']), ('Pio', ['piateczek', 'praca domowa z mispow', 'Ilovemispy', 'mispy w czasie snu'])]\n",
            "\n",
            "posortowane:  [('Pio', ['piateczek', 'praca domowa z mispow', 'Ilovemispy', 'mispy w czasie snu']), ('Wto', ['informatyka', 'nauka czytania']), ('Sro', ['relax', 'jedzenie']), ('Czwar', ['mispy', 'mispy w domu']), ('Pon', ['wf'])]\n",
            "\n",
            "----------------------------------------\n"
          ],
          "name": "stdout"
        }
      ]
    },
    {
      "cell_type": "markdown",
      "metadata": {
        "id": "gnu1HRDNknIp"
      },
      "source": [
        "## Zad.3\n",
        "napisz program ktory zdajdzie dzien z najwieksza iloscia mispow"
      ]
    },
    {
      "cell_type": "code",
      "metadata": {
        "id": "fMaBmYfWknIq",
        "outputId": "297f2e1c-4512-47a4-bb22-d8f30c287362"
      },
      "source": [
        "# napisz program ktory zdajdzie dzien z najwieksza iloscia mispow\n",
        "print('napisz program ktory zdajdzie dzien z najwieksza iloscia mispow')\n",
        "\n",
        "ilosc_mispow = [0,0,0,0,0]\n",
        "for x in range(0,len(zajecia)):\n",
        "  for y in range (0,len(zajecia[x])):\n",
        "    if(\"misp\" in zajecia[x][y]):\n",
        "     ilosc_mispow[x]=ilosc_mispow[x]+1 \n",
        "id_max_mispow = ilosc_mispow.index(max(ilosc_mispow))\n",
        "print(dnityg[id_max_mispow],max(ilosc_mispow))\n",
        "\n",
        "\n",
        "def ile_mispow(zajecia):\n",
        "  ile_misp=0\n",
        "  for zajecie in zajecia:\n",
        "     if \"misp\" in zajecie:\n",
        "       ile_misp += 1\n",
        "\n",
        "  return ile_misp\n",
        "\n",
        "polaczenie = zip(zajecia, dnityg)\n",
        "\n",
        "najwiecej =max(zajecia,key=ile_mispow)\n",
        "\n",
        "#print\n",
        "\n",
        "max(zajecia, key = ile_mispow)\n",
        "max(polaczenie, key = lambda para:ile_mispow(para[0]))\n",
        "\n",
        "print (dnityg[zajecia.index(najwiecej)])"
      ],
      "execution_count": null,
      "outputs": [
        {
          "output_type": "stream",
          "text": [
            "napisz program ktory zdajdzie dzien z najwieksza iloscia mispow\n",
            "Pio 3\n",
            "Pio\n"
          ],
          "name": "stdout"
        }
      ]
    },
    {
      "cell_type": "code",
      "metadata": {
        "id": "GUfo_3J0knIq"
      },
      "source": [
        ""
      ],
      "execution_count": null,
      "outputs": []
    }
  ]
}